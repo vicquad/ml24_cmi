{
 "cells": [
  {
   "cell_type": "code",
   "execution_count": 7,
   "metadata": {},
   "outputs": [
    {
     "name": "stdout",
     "output_type": "stream",
     "text": [
      "(2188, 64)\n",
      "(2188,)\n",
      "(548, 64)\n",
      "(548,)\n"
     ]
    }
   ],
   "source": [
    "import pandas as pd\n",
    "import numpy as np\n",
    "import matplotlib.pyplot as plt\n",
    "from sklearn.linear_model import LogisticRegression\n",
    "from sklearn.model_selection import train_test_split, GridSearchCV\n",
    "from sklearn.preprocessing import OneHotEncoder\n",
    "from sklearn.compose import ColumnTransformer\n",
    "from sklearn.metrics import cohen_kappa_score, accuracy_score\n",
    "import os\n",
    "\n",
    "def load_tabular_data(train_path, test_path, dict_path):\n",
    "    \"\"\"\n",
    "    Load the training, test, and dictionary data from the given paths.\n",
    "    \"\"\"\n",
    "    X_train = pd.read_csv(train_path)\n",
    "    X_test = pd.read_csv(test_path)\n",
    "    data_dict = pd.read_csv(dict_path)\n",
    "    \n",
    "    return X_train, X_test, data_dict\n",
    "\n",
    "def add_series_features(X, series_path):\n",
    "    \"\"\"\n",
    "    Add features from the series data to the input data.\n",
    "    \"\"\"\n",
    "    X[['enmo_mean', 'enmo_std', 'light_mean', 'light_std']] = np.nan\n",
    "\n",
    "    for id in X['id'].values:\n",
    "        if not os.path.exists(f'{series_path}/id={id}'):\n",
    "            continue\n",
    "        \n",
    "        df_series = pd.read_parquet(f'{series_path}/id={id}', engine='pyarrow')\n",
    "        X.loc[X['id'] == id, 'enmo_mean'] = df_series['enmo'].mean()\n",
    "        X.loc[X['id'] == id, 'enmo_std'] = df_series['enmo'].std()\n",
    "        X.loc[X['id'] == id, 'light_mean'] = df_series['light'].mean()\n",
    "        X.loc[X['id'] == id, 'light_std'] = df_series['light'].std()\n",
    "    \n",
    "    return X    \n",
    "\n",
    "def evaluate_model(model, X, y):\n",
    "    \"\"\"\n",
    "    Evaluate the given model using quadratic weighted kappa and mean accuracy.\n",
    "    \"\"\"\n",
    "    y_pred = model.predict(X)\n",
    "    kappa = cohen_kappa_score(y, y_pred, weights='quadratic')\n",
    "    mean_accuracy = accuracy_score(y, y_pred)\n",
    "    \n",
    "    return kappa, mean_accuracy\n",
    "\n",
    "def get_labeled_subset(data):\n",
    "    \"\"\"\n",
    "    Get all data points with labels from a given train set.\n",
    "    \"\"\"\n",
    "    data = data.dropna(subset=[\"sii\"])\n",
    "    return data \n",
    "\n",
    "df_train, df_test, data_dict = load_tabular_data('baseline_train.csv','baseline_test.csv', 'data_dictionary.csv')\n",
    "# Prepare train and test matrices\n",
    "columns_not_in_test = list(set(df_train.columns).difference(set(df_test.columns)))\n",
    "X_train = df_train.drop(columns_not_in_test + ['id'], axis=1)\n",
    "y_train = df_train['sii']\n",
    "\n",
    "print(X_train.shape), print(y_train.shape)\n",
    "\n",
    "X_test = df_test.drop(columns_not_in_test + ['id'], axis=1)\n",
    "y_test = df_test['sii']\n",
    "\n",
    "print(X_test.shape)\n",
    "print(y_test.shape)\n"
   ]
  },
  {
   "cell_type": "code",
   "execution_count": 8,
   "metadata": {},
   "outputs": [],
   "source": [
    "\n",
    "# Identify categorical and numerical columns\n",
    "numerical_features = data_dict[(data_dict['Type'] == 'float') | (data_dict['Type'] == 'int')]['Field'].values\n",
    "numerical_features = [feature for feature in numerical_features if feature in X_train.columns]\n",
    "categorical_features = data_dict[(data_dict['Type'] == 'str') | (data_dict['Type'] == 'categorical int')]['Field'].values\n",
    "categorical_features = [feature for feature in categorical_features if feature in X_train.columns]\n",
    "\n",
    "# Preprocess features\n",
    "preprocessor = ColumnTransformer(\n",
    "    transformers=[\n",
    "        ('num', 'passthrough', numerical_features),\n",
    "        ('cat', OneHotEncoder(handle_unknown='ignore'), categorical_features)\n",
    "    ])\n",
    "\n",
    "X_train = preprocessor.fit_transform(X_train)\n",
    "X_test = preprocessor.transform(X_test)\n",
    "\n"
   ]
  },
  {
   "cell_type": "code",
   "execution_count": 14,
   "metadata": {},
   "outputs": [],
   "source": [
    "from sklearn.impute import SimpleImputer\n",
    "\n",
    "# Create an imputer to fill NaN values with the mean\n",
    "imputer = SimpleImputer(strategy=\"mean\")\n",
    "\n",
    "# Impute the missing values in X_train\n",
    "X_train_imputed = imputer.fit_transform(X_train)\n",
    "X_test_imputed= imputer.fit_transform(X_test)\n",
    "# Now fit your LogisticRegression model with the imputed data\n"
   ]
  },
  {
   "cell_type": "code",
   "execution_count": null,
   "metadata": {},
   "outputs": [],
   "source": []
  },
  {
   "cell_type": "code",
   "execution_count": 16,
   "metadata": {},
   "outputs": [
    {
     "name": "stdout",
     "output_type": "stream",
     "text": [
      "Logistic Regression model accuracy: 0.5821167883211679, kappa: 0.0\n"
     ]
    },
    {
     "name": "stderr",
     "output_type": "stream",
     "text": [
      "/opt/anaconda3/lib/python3.11/site-packages/sklearn/linear_model/_sag.py:350: ConvergenceWarning: The max_iter was reached which means the coef_ did not converge\n",
      "  warnings.warn(\n"
     ]
    }
   ],
   "source": [
    "# Define Logistic Regression model with Ridge regularization\n",
    "logistic_model = LogisticRegression(solver='saga', penalty='l2', C=1.0, max_iter=1000, random_state=42, multi_class='multinomial')\n",
    "\n",
    "# Fit the model on training data\n",
    "logistic_model.fit(X_train_imputed, y_train)\n",
    "\n",
    "# Evaluate the model\n",
    "kappa, accuracy = evaluate_model(logistic_model, X_test_imputed, y_test)\n",
    "print(f'Logistic Regression model accuracy: {accuracy}, kappa: {kappa}')\n"
   ]
  },
  {
   "cell_type": "code",
   "execution_count": null,
   "metadata": {},
   "outputs": [],
   "source": [
    "\n",
    "# Make predictions on Kaggle test data\n",
    "kaggle_test = pd.read_csv('/kaggle/input/child-mind-institute-problematic-internet-use/test.csv')\n",
    "kaggle_test = add_series_features(kaggle_test, 'series_test.parquet')\n",
    "id_column = kaggle_test['id']\n",
    "kaggle_test = preprocessor.transform(kaggle_test.drop(columns_not_in_test + ['id'], axis=1))\n",
    "\n",
    "predictions = logistic_model.predict(kaggle_test)\n",
    "submission = pd.DataFrame({'id': id_column, 'sii': predictions})\n",
    "submission.to_csv('/kaggle/working/submission.csv', index=False)\n"
   ]
  },
  {
   "cell_type": "code",
   "execution_count": null,
   "metadata": {},
   "outputs": [],
   "source": []
  }
 ],
 "metadata": {
  "kernelspec": {
   "display_name": "base",
   "language": "python",
   "name": "python3"
  },
  "language_info": {
   "codemirror_mode": {
    "name": "ipython",
    "version": 3
   },
   "file_extension": ".py",
   "mimetype": "text/x-python",
   "name": "python",
   "nbconvert_exporter": "python",
   "pygments_lexer": "ipython3",
   "version": "3.11.7"
  }
 },
 "nbformat": 4,
 "nbformat_minor": 2
}
