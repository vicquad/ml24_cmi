{
 "cells": [
  {
   "cell_type": "code",
   "execution_count": 1,
   "metadata": {},
   "outputs": [],
   "source": [
    "from sklearn.compose import ColumnTransformer\n",
    "from sklearn.pipeline import Pipeline\n",
    "from sklearn.preprocessing import OneHotEncoder, StandardScaler\n",
    "from sklearn.impute import SimpleImputer\n",
    "from src.utils import *\n",
    "import xgboost as xgb\n",
    "from sklearn.model_selection import train_test_split\n",
    "from sklearn.semi_supervised import LabelPropagation\n",
    "from sklearn.preprocessing import OneHotEncoder\n"
   ]
  },
  {
   "cell_type": "code",
   "execution_count": 2,
   "metadata": {},
   "outputs": [],
   "source": [
    "df_train, df_test_kaggle, data_dict = load_tabular_data('data/train.csv', 'data/test.csv', 'data/data_dictionary.csv')"
   ]
  },
  {
   "cell_type": "markdown",
   "metadata": {},
   "source": [
    "### Add features extracted from time series data\n",
    "(for more information, see the notebook ...)"
   ]
  },
  {
   "cell_type": "code",
   "execution_count": 3,
   "metadata": {},
   "outputs": [],
   "source": [
    "df_train = add_series_features(df_train, 'data/series_train.parquet')\n",
    "df_test_kaggle = add_series_features(df_test_kaggle, 'data/series_test.parquet')"
   ]
  },
  {
   "cell_type": "markdown",
   "metadata": {},
   "source": [
    "### Split data into training and private test set"
   ]
  },
  {
   "cell_type": "code",
   "execution_count": 4,
   "metadata": {},
   "outputs": [],
   "source": [
    "y = df_train['sii']\n",
    "X_train, X_test, y_train, y_test = train_test_split(df_train, y, test_size=0.2, random_state=42)"
   ]
  },
  {
   "cell_type": "markdown",
   "metadata": {},
   "source": [
    "### Outlier detection\n",
    "(for more information, see the notebook ...)"
   ]
  },
  {
   "cell_type": "code",
   "execution_count": 5,
   "metadata": {},
   "outputs": [],
   "source": [
    "# CGAS score should be between 0 and 100\n",
    "X_train.loc[X_train['CGAS-CGAS_Score'] > 100, 'CGAS-CGAS_Score'] = np.nan\n",
    "X_train.loc[X_train['CGAS-CGAS_Score'] < 0, 'CGAS-CGAS_Score'] = np.nan\n",
    "\n",
    "physical_features = df_train.columns[df_train.columns.str.contains('Physical')]\n",
    "# Replace 0 values for physical features with NaN\n",
    "X_train[physical_features] = X_train[physical_features].replace(0, np.nan)\n",
    "\n",
    "# Replace values where systolic blood pressure is less than diastolic blood pressure with NaN\n",
    "condition = df_train['Physical-Systolic_BP'] < df_train['Physical-Diastolic_BP']\n",
    "df_train.loc[condition, ['Physical-Systolic_BP', 'Physical-Diastolic_BP']] = np.nan"
   ]
  },
  {
   "cell_type": "markdown",
   "metadata": {},
   "source": [
    "### Data imputation\n",
    "- For the numerical features, we fill the missing values with the KNN imputer.\n",
    "- For the categorical features, we fill the missing values with the most frequent value in the column."
   ]
  },
  {
   "cell_type": "code",
   "execution_count": 6,
   "metadata": {},
   "outputs": [],
   "source": [
    "X_train = impute_tabdata(X_train, 'data/data_dictionary.csv')"
   ]
  },
  {
   "cell_type": "markdown",
   "metadata": {},
   "source": [
    "### One hot encoding for categorical features"
   ]
  },
  {
   "cell_type": "code",
   "execution_count": 7,
   "metadata": {},
   "outputs": [],
   "source": [
    "categorical_features = data_dict[(data_dict['Type'] == 'str') | (data_dict['Type'] == 'categorical int')]['Field'].values\n",
    "columns_not_in_test = list(set(df_train.columns).difference(set(df_test_kaggle.columns)))\n",
    "categorical_features = [feature for feature in categorical_features if feature not in columns_not_in_test]"
   ]
  },
  {
   "cell_type": "code",
   "execution_count": 8,
   "metadata": {},
   "outputs": [],
   "source": [
    "encoder = OneHotEncoder(handle_unknown='ignore', sparse_output=False)\n",
    "encoded_features = encoder.fit_transform(X_train[categorical_features])\n",
    "encoded_df = pd.DataFrame(encoded_features, columns=encoder.get_feature_names_out(categorical_features))\n",
    "X_train = X_train.drop(columns=categorical_features)\n",
    "X_train = pd.concat([X_train.reset_index(drop=True), encoded_df.reset_index(drop=True)], axis=1)\n"
   ]
  },
  {
   "cell_type": "markdown",
   "metadata": {},
   "source": [
    "### Label propagation"
   ]
  },
  {
   "cell_type": "code",
   "execution_count": null,
   "metadata": {},
   "outputs": [],
   "source": [
    "columns_not_in_test.remove('sii')\n",
    "X_train = X_train.drop(columns=columns_not_in_test)\n",
    "X_train = label_propagation(X_train, LabelPropagation())"
   ]
  },
  {
   "cell_type": "markdown",
   "metadata": {},
   "source": [
    "### Oversampling"
   ]
  },
  {
   "cell_type": "code",
   "execution_count": null,
   "metadata": {},
   "outputs": [],
   "source": [
    "X_train = oversample_tabdata(X_train)"
   ]
  },
  {
   "cell_type": "code",
   "execution_count": null,
   "metadata": {},
   "outputs": [],
   "source": [
    "# get train matrix and target vector\n",
    "X = df_train.drop(columns_not_in_test, axis=1)\n",
    "y = df_train['sii']"
   ]
  },
  {
   "cell_type": "code",
   "execution_count": null,
   "metadata": {},
   "outputs": [],
   "source": [
    "# get categorical and numerical columns\n",
    "numerical_features = data_dict[(data_dict['Type'] == 'float') | (data_dict['Type'] == 'int')]['Field'].values\n",
    "numerical_features = [feature for feature in numerical_features if feature in X.columns]\n",
    "\n",
    "categorical_features = data_dict[(data_dict['Type'] == 'str') | (data_dict['Type'] == 'categorical int')]['Field'].values\n",
    "categorical_features = [feature for feature in categorical_features if feature in X.columns]"
   ]
  },
  {
   "cell_type": "markdown",
   "metadata": {},
   "source": [
    "### Model"
   ]
  },
  {
   "cell_type": "code",
   "execution_count": null,
   "metadata": {},
   "outputs": [],
   "source": [
    "xgb_model = xgb.XGBClassifier(objective='multi:softmax', \n",
    "                              eval_metric='mlogloss', \n",
    "                              num_class=4, \n",
    "                              learning_rate=0.01, \n",
    "                              max_depth=2, \n",
    "                              min_child_weight=0, \n",
    "                              gamma=0, \n",
    "                              subsample=0.7, \n",
    "                              colsample_bytree=0.55,\n",
    "                              reg_alpha=1e-5,\n",
    "                              n_estimators=5000)\n",
    "xgb_model.fit(X_train, y_train)"
   ]
  },
  {
   "cell_type": "markdown",
   "metadata": {},
   "source": [
    "### Evaluation"
   ]
  },
  {
   "cell_type": "code",
   "execution_count": null,
   "metadata": {},
   "outputs": [],
   "source": [
    "eval = evaluate_model(xgb_model, X_test, y_test)\n",
    "print(f'XGB model accuracy: {eval[1]}, kappa: {eval[0]}')"
   ]
  }
 ],
 "metadata": {
  "kernelspec": {
   "display_name": "Python 3",
   "language": "python",
   "name": "python3"
  },
  "language_info": {
   "codemirror_mode": {
    "name": "ipython",
    "version": 3
   },
   "file_extension": ".py",
   "mimetype": "text/x-python",
   "name": "python",
   "nbconvert_exporter": "python",
   "pygments_lexer": "ipython3",
   "version": "3.10.0"
  }
 },
 "nbformat": 4,
 "nbformat_minor": 2
}
