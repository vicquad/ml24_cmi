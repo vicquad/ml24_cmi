{
 "cells": [
  {
   "cell_type": "code",
   "execution_count": null,
   "metadata": {},
   "outputs": [],
   "source": [
    "import pandas as pd\n",
    "import numpy as np\n",
    "import matplotlib.pyplot as plt\n",
    "import seaborn as sns\n",
    "import os\n",
    "from sklearn.metrics import cohen_kappa_score\n",
    "from sklearn.ensemble import HistGradientBoostingClassifier\n",
    "from sklearn.compose import ColumnTransformer\n",
    "from sklearn.pipeline import Pipeline\n",
    "from sklearn.preprocessing import OneHotEncoder, StandardScaler\n",
    "from sklearn.impute import SimpleImputer"
   ]
  },
  {
   "cell_type": "code",
   "execution_count": 8,
   "metadata": {},
   "outputs": [],
   "source": [
    "df_train = pd.read_csv('train.csv')\n",
    "df_test = pd.read_csv('test.csv')\n",
    "df_dict = pd.read_csv('data_dictionary.csv')"
   ]
  },
  {
   "cell_type": "code",
   "execution_count": 3,
   "metadata": {},
   "outputs": [],
   "source": [
    "# add feature names to the dataframe\n",
    "df_train['enmo_mean'] = np.nan\n",
    "df_train['enmo_std'] = np.nan\n",
    "df_train['light_mean'] = np.nan\n",
    "df_train['light_std'] = np.nan"
   ]
  },
  {
   "cell_type": "code",
   "execution_count": 4,
   "metadata": {},
   "outputs": [],
   "source": [
    "for id in df_train['id'].values:\n",
    "    # first check if the file exists\n",
    "    if not os.path.exists(f'series_train.parquet\\id={id}'):\n",
    "        continue\n",
    "    \n",
    "    # read the file and extract the features\n",
    "    df_series = pd.read_parquet(f'series_train.parquet\\id={id}', engine='pyarrow')\n",
    "    df_train.loc[df_train['id'] == id, 'enmo_mean'] = df_series['enmo'].mean()\n",
    "    df_train.loc[df_train['id'] == id, 'enmo_std'] = df_series['enmo'].std()\n",
    "    df_train.loc[df_train['id'] == id, 'light_mean'] = df_series['light'].mean()\n",
    "    df_train.loc[df_train['id'] == id, 'light_std'] = df_series['light'].std()"
   ]
  },
  {
   "cell_type": "code",
   "execution_count": 20,
   "metadata": {},
   "outputs": [],
   "source": [
    "# get train matrix and target vector\n",
    "columns_not_in_test = list(set(df_train.columns).difference(set(df_test.columns)))\n",
    "X = df_train.drop(columns_not_in_test, axis=1)\n",
    "y = df_train['sii']"
   ]
  },
  {
   "cell_type": "code",
   "execution_count": 21,
   "metadata": {},
   "outputs": [],
   "source": [
    "# get categorical and numerical columns\n",
    "numerical_features = df_dict[(df_dict['Type'] == 'float') | (df_dict['Type'] == 'int')]['Field'].values\n",
    "numerical_features = [feature for feature in numerical_features if feature in X.columns]\n",
    "\n",
    "categorical_features = df_dict[(df_dict['Type'] == 'str') | (df_dict['Type'] == 'categorical int')]['Field'].values\n",
    "categorical_features = [feature for feature in categorical_features if feature in X.columns]"
   ]
  },
  {
   "cell_type": "markdown",
   "metadata": {},
   "source": [
    "- **Logistic regression**: standardization + imputation of missing values + one-hot encoding\n",
    "- **Random forest**: imputation of missing values + one-hot encoding\n",
    "- **Histogram-based Gradient Boosting** (no preprocessing needed)\n",
    "- **XGBoost** (no preprocessing needed)"
   ]
  },
  {
   "cell_type": "code",
   "execution_count": null,
   "metadata": {},
   "outputs": [],
   "source": [
    "# preprocessing pipelines\n",
    "numerical_transformer_lr = Pipeline(steps=[\n",
    "    ('imputer', SimpleImputer(strategy='mean')),\n",
    "    ('scaler', StandardScaler())\n",
    "])\n",
    "numerical_transformer_rf = Pipeline(steps=[\n",
    "    ('imputer', SimpleImputer(strategy='mean'))\n",
    "])\n",
    "\n",
    "categorical_transformer = Pipeline(steps=[\n",
    "    ('imputer', SimpleImputer(strategy='most_frequent', fill_value='missing')),\n",
    "    ('onehot', OneHotEncoder(handle_unknown='ignore'))\n",
    "])"
   ]
  },
  {
   "cell_type": "code",
   "execution_count": null,
   "metadata": {},
   "outputs": [],
   "source": [
    "# preprocessor for Logistic Regression\n",
    "preprocessor_lr = ColumnTransformer(\n",
    "    transformers=[\n",
    "        ('num', numerical_transformer_lr, numerical_features),\n",
    "        ('cat', categorical_transformer, categorical_features)\n",
    "    ])\n",
    "\n",
    "# preprocessor for Random Forest\n",
    "preprocessor_rf = ColumnTransformer(\n",
    "    transformers=[\n",
    "        ('num', numerical_transformer_rf, numerical_features),\n",
    "        ('cat', categorical_transformer, categorical_features)\n",
    "    ])"
   ]
  },
  {
   "cell_type": "markdown",
   "metadata": {},
   "source": [
    "<div class=\"alert alert-block alert-danger\">\n",
    "We need to find a better way to handle missing values!\n",
    "</div>"
   ]
  },
  {
   "cell_type": "code",
   "execution_count": null,
   "metadata": {},
   "outputs": [],
   "source": [
    "# evaluation function\n",
    "def evaluate_model(model, X, y):\n",
    "    y_pred = model.predict(X)\n",
    "    kappa = cohen_kappa_score(y, y_pred)\n",
    "    mean_accuracy = model.score(X, y)\n",
    "    \n",
    "    return kappa, mean_accuracy"
   ]
  },
  {
   "cell_type": "markdown",
   "metadata": {},
   "source": [
    "<div class=\"alert alert-block alert-info\">\n",
    "    <h4>Plan for the future:</h4>\n",
    "    <ul>\n",
    "        <li>Somehow balance dataset</li>\n",
    "        <li>Better handle missing values</li>\n",
    "        <li>Extract new features from time series data</li>\n",
    "        <li>Estimate feature importance and do feature selection</li>\n",
    "        <li>Take also into account the unlabelled data\n",
    "            <ul>\n",
    "                <li>First a semi-supervised learning (e.g., Label Propagation and Label Spreading), then train a supervised model with the labelled data</li>\n",
    "            </ul>\n",
    "        </li>\n",
    "    </ul>\n",
    "</div>"
   ]
  }
 ],
 "metadata": {
  "kernelspec": {
   "display_name": "Python 3",
   "language": "python",
   "name": "python3"
  },
  "language_info": {
   "codemirror_mode": {
    "name": "ipython",
    "version": 3
   },
   "file_extension": ".py",
   "mimetype": "text/x-python",
   "name": "python",
   "nbconvert_exporter": "python",
   "pygments_lexer": "ipython3",
   "version": "3.10.0"
  }
 },
 "nbformat": 4,
 "nbformat_minor": 2
}
