{
 "cells": [
  {
   "cell_type": "code",
   "execution_count": 7,
   "metadata": {},
   "outputs": [],
   "source": [
    "import sys\n",
    "import os\n",
    "sys.path.append(os.path.abspath(os.path.join('..', 'src')))"
   ]
  },
  {
   "cell_type": "code",
   "execution_count": 11,
   "metadata": {},
   "outputs": [],
   "source": [
    "import pandas as pd\n",
    "import numpy as np\n",
    "import matplotlib.pyplot as plt\n",
    "from utils import load_tabular_data"
   ]
  },
  {
   "cell_type": "code",
   "execution_count": 13,
   "metadata": {},
   "outputs": [],
   "source": [
    "df_train, df_test, data_dict = load_tabular_data('../data/train.csv', '../data/test.csv', '../data/data_dictionary.csv')"
   ]
  },
  {
   "cell_type": "code",
   "execution_count": 4,
   "metadata": {},
   "outputs": [
    {
     "data": {
      "text/html": [
       "<div>\n",
       "<style scoped>\n",
       "    .dataframe tbody tr th:only-of-type {\n",
       "        vertical-align: middle;\n",
       "    }\n",
       "\n",
       "    .dataframe tbody tr th {\n",
       "        vertical-align: top;\n",
       "    }\n",
       "\n",
       "    .dataframe thead th {\n",
       "        text-align: right;\n",
       "    }\n",
       "</style>\n",
       "<table border=\"1\" class=\"dataframe\">\n",
       "  <thead>\n",
       "    <tr style=\"text-align: right;\">\n",
       "      <th></th>\n",
       "      <th>Basic_Demos-Age</th>\n",
       "      <th>Basic_Demos-Sex</th>\n",
       "      <th>CGAS-CGAS_Score</th>\n",
       "      <th>Physical-BMI</th>\n",
       "      <th>Physical-Height</th>\n",
       "      <th>Physical-Weight</th>\n",
       "      <th>Physical-Waist_Circumference</th>\n",
       "      <th>Physical-Diastolic_BP</th>\n",
       "      <th>Physical-HeartRate</th>\n",
       "      <th>Physical-Systolic_BP</th>\n",
       "      <th>...</th>\n",
       "      <th>PCIAT-PCIAT_16</th>\n",
       "      <th>PCIAT-PCIAT_17</th>\n",
       "      <th>PCIAT-PCIAT_18</th>\n",
       "      <th>PCIAT-PCIAT_19</th>\n",
       "      <th>PCIAT-PCIAT_20</th>\n",
       "      <th>PCIAT-PCIAT_Total</th>\n",
       "      <th>SDS-SDS_Total_Raw</th>\n",
       "      <th>SDS-SDS_Total_T</th>\n",
       "      <th>PreInt_EduHx-computerinternet_hoursday</th>\n",
       "      <th>sii</th>\n",
       "    </tr>\n",
       "  </thead>\n",
       "  <tbody>\n",
       "    <tr>\n",
       "      <th>count</th>\n",
       "      <td>3960.000000</td>\n",
       "      <td>3960.000000</td>\n",
       "      <td>2421.000000</td>\n",
       "      <td>3022.000000</td>\n",
       "      <td>3027.000000</td>\n",
       "      <td>3076.000000</td>\n",
       "      <td>898.000000</td>\n",
       "      <td>2954.000000</td>\n",
       "      <td>2967.000000</td>\n",
       "      <td>2954.000000</td>\n",
       "      <td>...</td>\n",
       "      <td>2728.000000</td>\n",
       "      <td>2725.000000</td>\n",
       "      <td>2728.000000</td>\n",
       "      <td>2730.000000</td>\n",
       "      <td>2733.000000</td>\n",
       "      <td>2736.000000</td>\n",
       "      <td>2609.000000</td>\n",
       "      <td>2606.000000</td>\n",
       "      <td>3301.000000</td>\n",
       "      <td>2736.000000</td>\n",
       "    </tr>\n",
       "    <tr>\n",
       "      <th>mean</th>\n",
       "      <td>10.433586</td>\n",
       "      <td>0.372727</td>\n",
       "      <td>65.454771</td>\n",
       "      <td>19.331929</td>\n",
       "      <td>55.946713</td>\n",
       "      <td>89.038615</td>\n",
       "      <td>27.278508</td>\n",
       "      <td>69.648951</td>\n",
       "      <td>81.597236</td>\n",
       "      <td>116.983074</td>\n",
       "      <td>...</td>\n",
       "      <td>1.452346</td>\n",
       "      <td>1.627890</td>\n",
       "      <td>1.613636</td>\n",
       "      <td>1.158974</td>\n",
       "      <td>0.943652</td>\n",
       "      <td>27.896199</td>\n",
       "      <td>41.088923</td>\n",
       "      <td>57.763622</td>\n",
       "      <td>1.060588</td>\n",
       "      <td>0.580409</td>\n",
       "    </tr>\n",
       "    <tr>\n",
       "      <th>std</th>\n",
       "      <td>3.574648</td>\n",
       "      <td>0.483591</td>\n",
       "      <td>22.341862</td>\n",
       "      <td>5.113934</td>\n",
       "      <td>7.473764</td>\n",
       "      <td>44.569040</td>\n",
       "      <td>5.567287</td>\n",
       "      <td>13.611226</td>\n",
       "      <td>13.665196</td>\n",
       "      <td>17.061225</td>\n",
       "      <td>...</td>\n",
       "      <td>1.495600</td>\n",
       "      <td>1.445622</td>\n",
       "      <td>1.529178</td>\n",
       "      <td>1.343661</td>\n",
       "      <td>1.185460</td>\n",
       "      <td>20.338853</td>\n",
       "      <td>10.427433</td>\n",
       "      <td>13.196091</td>\n",
       "      <td>1.094875</td>\n",
       "      <td>0.771122</td>\n",
       "    </tr>\n",
       "    <tr>\n",
       "      <th>min</th>\n",
       "      <td>5.000000</td>\n",
       "      <td>0.000000</td>\n",
       "      <td>25.000000</td>\n",
       "      <td>0.000000</td>\n",
       "      <td>33.000000</td>\n",
       "      <td>0.000000</td>\n",
       "      <td>18.000000</td>\n",
       "      <td>0.000000</td>\n",
       "      <td>27.000000</td>\n",
       "      <td>0.000000</td>\n",
       "      <td>...</td>\n",
       "      <td>0.000000</td>\n",
       "      <td>0.000000</td>\n",
       "      <td>0.000000</td>\n",
       "      <td>0.000000</td>\n",
       "      <td>0.000000</td>\n",
       "      <td>0.000000</td>\n",
       "      <td>17.000000</td>\n",
       "      <td>38.000000</td>\n",
       "      <td>0.000000</td>\n",
       "      <td>0.000000</td>\n",
       "    </tr>\n",
       "    <tr>\n",
       "      <th>25%</th>\n",
       "      <td>8.000000</td>\n",
       "      <td>0.000000</td>\n",
       "      <td>59.000000</td>\n",
       "      <td>15.869350</td>\n",
       "      <td>50.000000</td>\n",
       "      <td>57.200000</td>\n",
       "      <td>23.000000</td>\n",
       "      <td>61.000000</td>\n",
       "      <td>72.000000</td>\n",
       "      <td>107.000000</td>\n",
       "      <td>...</td>\n",
       "      <td>0.000000</td>\n",
       "      <td>0.000000</td>\n",
       "      <td>0.000000</td>\n",
       "      <td>0.000000</td>\n",
       "      <td>0.000000</td>\n",
       "      <td>12.000000</td>\n",
       "      <td>33.000000</td>\n",
       "      <td>47.000000</td>\n",
       "      <td>0.000000</td>\n",
       "      <td>0.000000</td>\n",
       "    </tr>\n",
       "    <tr>\n",
       "      <th>50%</th>\n",
       "      <td>10.000000</td>\n",
       "      <td>0.000000</td>\n",
       "      <td>65.000000</td>\n",
       "      <td>17.937682</td>\n",
       "      <td>55.000000</td>\n",
       "      <td>77.000000</td>\n",
       "      <td>26.000000</td>\n",
       "      <td>68.000000</td>\n",
       "      <td>81.000000</td>\n",
       "      <td>114.000000</td>\n",
       "      <td>...</td>\n",
       "      <td>1.000000</td>\n",
       "      <td>1.000000</td>\n",
       "      <td>1.000000</td>\n",
       "      <td>1.000000</td>\n",
       "      <td>1.000000</td>\n",
       "      <td>26.000000</td>\n",
       "      <td>39.000000</td>\n",
       "      <td>55.000000</td>\n",
       "      <td>1.000000</td>\n",
       "      <td>0.000000</td>\n",
       "    </tr>\n",
       "    <tr>\n",
       "      <th>75%</th>\n",
       "      <td>13.000000</td>\n",
       "      <td>1.000000</td>\n",
       "      <td>75.000000</td>\n",
       "      <td>21.571244</td>\n",
       "      <td>62.000000</td>\n",
       "      <td>113.800000</td>\n",
       "      <td>30.000000</td>\n",
       "      <td>76.000000</td>\n",
       "      <td>90.500000</td>\n",
       "      <td>125.000000</td>\n",
       "      <td>...</td>\n",
       "      <td>2.000000</td>\n",
       "      <td>3.000000</td>\n",
       "      <td>2.000000</td>\n",
       "      <td>2.000000</td>\n",
       "      <td>1.000000</td>\n",
       "      <td>41.000000</td>\n",
       "      <td>46.000000</td>\n",
       "      <td>64.000000</td>\n",
       "      <td>2.000000</td>\n",
       "      <td>1.000000</td>\n",
       "    </tr>\n",
       "    <tr>\n",
       "      <th>max</th>\n",
       "      <td>22.000000</td>\n",
       "      <td>1.000000</td>\n",
       "      <td>999.000000</td>\n",
       "      <td>59.132048</td>\n",
       "      <td>78.500000</td>\n",
       "      <td>315.000000</td>\n",
       "      <td>50.000000</td>\n",
       "      <td>179.000000</td>\n",
       "      <td>138.000000</td>\n",
       "      <td>203.000000</td>\n",
       "      <td>...</td>\n",
       "      <td>5.000000</td>\n",
       "      <td>5.000000</td>\n",
       "      <td>5.000000</td>\n",
       "      <td>5.000000</td>\n",
       "      <td>5.000000</td>\n",
       "      <td>93.000000</td>\n",
       "      <td>96.000000</td>\n",
       "      <td>100.000000</td>\n",
       "      <td>3.000000</td>\n",
       "      <td>3.000000</td>\n",
       "    </tr>\n",
       "  </tbody>\n",
       "</table>\n",
       "<p>8 rows × 70 columns</p>\n",
       "</div>"
      ],
      "text/plain": [
       "       Basic_Demos-Age  Basic_Demos-Sex  CGAS-CGAS_Score  Physical-BMI  \\\n",
       "count      3960.000000      3960.000000      2421.000000   3022.000000   \n",
       "mean         10.433586         0.372727        65.454771     19.331929   \n",
       "std           3.574648         0.483591        22.341862      5.113934   \n",
       "min           5.000000         0.000000        25.000000      0.000000   \n",
       "25%           8.000000         0.000000        59.000000     15.869350   \n",
       "50%          10.000000         0.000000        65.000000     17.937682   \n",
       "75%          13.000000         1.000000        75.000000     21.571244   \n",
       "max          22.000000         1.000000       999.000000     59.132048   \n",
       "\n",
       "       Physical-Height  Physical-Weight  Physical-Waist_Circumference  \\\n",
       "count      3027.000000      3076.000000                    898.000000   \n",
       "mean         55.946713        89.038615                     27.278508   \n",
       "std           7.473764        44.569040                      5.567287   \n",
       "min          33.000000         0.000000                     18.000000   \n",
       "25%          50.000000        57.200000                     23.000000   \n",
       "50%          55.000000        77.000000                     26.000000   \n",
       "75%          62.000000       113.800000                     30.000000   \n",
       "max          78.500000       315.000000                     50.000000   \n",
       "\n",
       "       Physical-Diastolic_BP  Physical-HeartRate  Physical-Systolic_BP  ...  \\\n",
       "count            2954.000000         2967.000000           2954.000000  ...   \n",
       "mean               69.648951           81.597236            116.983074  ...   \n",
       "std                13.611226           13.665196             17.061225  ...   \n",
       "min                 0.000000           27.000000              0.000000  ...   \n",
       "25%                61.000000           72.000000            107.000000  ...   \n",
       "50%                68.000000           81.000000            114.000000  ...   \n",
       "75%                76.000000           90.500000            125.000000  ...   \n",
       "max               179.000000          138.000000            203.000000  ...   \n",
       "\n",
       "       PCIAT-PCIAT_16  PCIAT-PCIAT_17  PCIAT-PCIAT_18  PCIAT-PCIAT_19  \\\n",
       "count     2728.000000     2725.000000     2728.000000     2730.000000   \n",
       "mean         1.452346        1.627890        1.613636        1.158974   \n",
       "std          1.495600        1.445622        1.529178        1.343661   \n",
       "min          0.000000        0.000000        0.000000        0.000000   \n",
       "25%          0.000000        0.000000        0.000000        0.000000   \n",
       "50%          1.000000        1.000000        1.000000        1.000000   \n",
       "75%          2.000000        3.000000        2.000000        2.000000   \n",
       "max          5.000000        5.000000        5.000000        5.000000   \n",
       "\n",
       "       PCIAT-PCIAT_20  PCIAT-PCIAT_Total  SDS-SDS_Total_Raw  SDS-SDS_Total_T  \\\n",
       "count     2733.000000        2736.000000        2609.000000      2606.000000   \n",
       "mean         0.943652          27.896199          41.088923        57.763622   \n",
       "std          1.185460          20.338853          10.427433        13.196091   \n",
       "min          0.000000           0.000000          17.000000        38.000000   \n",
       "25%          0.000000          12.000000          33.000000        47.000000   \n",
       "50%          1.000000          26.000000          39.000000        55.000000   \n",
       "75%          1.000000          41.000000          46.000000        64.000000   \n",
       "max          5.000000          93.000000          96.000000       100.000000   \n",
       "\n",
       "       PreInt_EduHx-computerinternet_hoursday          sii  \n",
       "count                             3301.000000  2736.000000  \n",
       "mean                                 1.060588     0.580409  \n",
       "std                                  1.094875     0.771122  \n",
       "min                                  0.000000     0.000000  \n",
       "25%                                  0.000000     0.000000  \n",
       "50%                                  1.000000     0.000000  \n",
       "75%                                  2.000000     1.000000  \n",
       "max                                  3.000000     3.000000  \n",
       "\n",
       "[8 rows x 70 columns]"
      ]
     },
     "execution_count": 4,
     "metadata": {},
     "output_type": "execute_result"
    }
   ],
   "source": [
    "df_train.describe()"
   ]
  },
  {
   "cell_type": "code",
   "execution_count": 15,
   "metadata": {},
   "outputs": [
    {
     "data": {
      "text/plain": [
       "Text(0.5, 0, 'Age')"
      ]
     },
     "execution_count": 15,
     "metadata": {},
     "output_type": "execute_result"
    },
    {
     "data": {
      "image/png": "[encoded data removed]",
      "text/plain": [
       "<Figure size 640x480 with 1 Axes>"
      ]
     },
     "metadata": {},
     "output_type": "display_data"
    }
   ],
   "source": [
    "df_train['Basic_Demos-Age'].value_counts().sort_index().plot(kind='bar')\n",
    "plt.title('Age distribution')\n",
    "plt.xlabel('Age')"
   ]
  },
  {
   "cell_type": "code",
   "execution_count": 17,
   "metadata": {},
   "outputs": [
    {
     "data": {
      "text/plain": [
       "Text(0.5, 0, '')"
      ]
     },
     "execution_count": 17,
     "metadata": {},
     "output_type": "execute_result"
    },
    {
     "data": {
      "image/png": "[encoded data removed]",
      "text/plain": [
       "<Figure size 640x480 with 1 Axes>"
      ]
     },
     "metadata": {},
     "output_type": "display_data"
    }
   ],
   "source": [
    "df_train['Basic_Demos-Sex'].value_counts().plot(kind='bar')\n",
    "plt.title('Sex distribution')\n",
    "plt.xticks([0, 1], ['Male', 'Female'])\n",
    "plt.xlabel('')"
   ]
  },
  {
   "cell_type": "code",
   "execution_count": 26,
   "metadata": {},
   "outputs": [
    {
     "data": {
      "text/plain": [
       "Text(0.5, 1.0, 'CGAS Score distribution')"
      ]
     },
     "execution_count": 26,
     "metadata": {},
     "output_type": "execute_result"
    },
    {
     "data": {
      "image/png": "[encoded data removed]",
      "text/plain": [
       "<Figure size 640x480 with 1 Axes>"
      ]
     },
     "metadata": {},
     "output_type": "display_data"
    }
   ],
   "source": [
    "df_train['CGAS-CGAS_Score'][df_train['CGAS-CGAS_Score'] <= 100].plot(kind='hist', bins=10)\n",
    "plt.title('CGAS Score distribution')"
   ]
  },
  {
   "cell_type": "code",
   "execution_count": 29,
   "metadata": {},
   "outputs": [
    {
     "name": "stdout",
     "output_type": "stream",
     "text": [
      "999.0\n",
      "1\n"
     ]
    }
   ],
   "source": [
    "print(df_train['CGAS-CGAS_Score'].max())\n",
    "print(len(df_train[df_train['CGAS-CGAS_Score'] > 100]))"
   ]
  },
  {
   "cell_type": "markdown",
   "metadata": {},
   "source": [
    "CGAS score should be between 0 and 100. There is one extreme value in the dataset (value 999). We will remove this value, when preprocessing the data."
   ]
  },
  {
   "cell_type": "code",
   "execution_count": 33,
   "metadata": {},
   "outputs": [],
   "source": [
    "lbs_to_kg = 0.453592\n",
    "inches_to_cm = 2.54\n",
    "\n",
    "df_train['Physical-Height'] = df_train['Physical-Height'] * inches_to_cm\n",
    "df_train['Physical-Weight'] = df_train['Physical-Weight'] * lbs_to_kg"
   ]
  },
  {
   "cell_type": "code",
   "execution_count": 34,
   "metadata": {},
   "outputs": [
    {
     "data": {
      "text/html": [
       "<div>\n",
       "<style scoped>\n",
       "    .dataframe tbody tr th:only-of-type {\n",
       "        vertical-align: middle;\n",
       "    }\n",
       "\n",
       "    .dataframe tbody tr th {\n",
       "        vertical-align: top;\n",
       "    }\n",
       "\n",
       "    .dataframe thead th {\n",
       "        text-align: right;\n",
       "    }\n",
       "</style>\n",
       "<table border=\"1\" class=\"dataframe\">\n",
       "  <thead>\n",
       "    <tr style=\"text-align: right;\">\n",
       "      <th></th>\n",
       "      <th>Physical-BMI</th>\n",
       "      <th>Physical-Height</th>\n",
       "      <th>Physical-Weight</th>\n",
       "      <th>Physical-Waist_Circumference</th>\n",
       "      <th>Physical-Diastolic_BP</th>\n",
       "      <th>Physical-HeartRate</th>\n",
       "      <th>Physical-Systolic_BP</th>\n",
       "    </tr>\n",
       "  </thead>\n",
       "  <tbody>\n",
       "    <tr>\n",
       "      <th>count</th>\n",
       "      <td>3022.000000</td>\n",
       "      <td>3027.000000</td>\n",
       "      <td>3076.000000</td>\n",
       "      <td>898.000000</td>\n",
       "      <td>2954.000000</td>\n",
       "      <td>2967.000000</td>\n",
       "      <td>2954.000000</td>\n",
       "    </tr>\n",
       "    <tr>\n",
       "      <th>mean</th>\n",
       "      <td>19.331929</td>\n",
       "      <td>142.104651</td>\n",
       "      <td>40.387203</td>\n",
       "      <td>27.278508</td>\n",
       "      <td>69.648951</td>\n",
       "      <td>81.597236</td>\n",
       "      <td>116.983074</td>\n",
       "    </tr>\n",
       "    <tr>\n",
       "      <th>std</th>\n",
       "      <td>5.113934</td>\n",
       "      <td>18.983360</td>\n",
       "      <td>20.216160</td>\n",
       "      <td>5.567287</td>\n",
       "      <td>13.611226</td>\n",
       "      <td>13.665196</td>\n",
       "      <td>17.061225</td>\n",
       "    </tr>\n",
       "    <tr>\n",
       "      <th>min</th>\n",
       "      <td>0.000000</td>\n",
       "      <td>83.820000</td>\n",
       "      <td>0.000000</td>\n",
       "      <td>18.000000</td>\n",
       "      <td>0.000000</td>\n",
       "      <td>27.000000</td>\n",
       "      <td>0.000000</td>\n",
       "    </tr>\n",
       "    <tr>\n",
       "      <th>25%</th>\n",
       "      <td>15.869350</td>\n",
       "      <td>127.000000</td>\n",
       "      <td>25.945462</td>\n",
       "      <td>23.000000</td>\n",
       "      <td>61.000000</td>\n",
       "      <td>72.000000</td>\n",
       "      <td>107.000000</td>\n",
       "    </tr>\n",
       "    <tr>\n",
       "      <th>50%</th>\n",
       "      <td>17.937682</td>\n",
       "      <td>139.700000</td>\n",
       "      <td>34.926584</td>\n",
       "      <td>26.000000</td>\n",
       "      <td>68.000000</td>\n",
       "      <td>81.000000</td>\n",
       "      <td>114.000000</td>\n",
       "    </tr>\n",
       "    <tr>\n",
       "      <th>75%</th>\n",
       "      <td>21.571244</td>\n",
       "      <td>157.480000</td>\n",
       "      <td>51.618770</td>\n",
       "      <td>30.000000</td>\n",
       "      <td>76.000000</td>\n",
       "      <td>90.500000</td>\n",
       "      <td>125.000000</td>\n",
       "    </tr>\n",
       "    <tr>\n",
       "      <th>max</th>\n",
       "      <td>59.132048</td>\n",
       "      <td>199.390000</td>\n",
       "      <td>142.881480</td>\n",
       "      <td>50.000000</td>\n",
       "      <td>179.000000</td>\n",
       "      <td>138.000000</td>\n",
       "      <td>203.000000</td>\n",
       "    </tr>\n",
       "  </tbody>\n",
       "</table>\n",
       "</div>"
      ],
      "text/plain": [
       "       Physical-BMI  Physical-Height  Physical-Weight  \\\n",
       "count   3022.000000      3027.000000      3076.000000   \n",
       "mean      19.331929       142.104651        40.387203   \n",
       "std        5.113934        18.983360        20.216160   \n",
       "min        0.000000        83.820000         0.000000   \n",
       "25%       15.869350       127.000000        25.945462   \n",
       "50%       17.937682       139.700000        34.926584   \n",
       "75%       21.571244       157.480000        51.618770   \n",
       "max       59.132048       199.390000       142.881480   \n",
       "\n",
       "       Physical-Waist_Circumference  Physical-Diastolic_BP  \\\n",
       "count                    898.000000            2954.000000   \n",
       "mean                      27.278508              69.648951   \n",
       "std                        5.567287              13.611226   \n",
       "min                       18.000000               0.000000   \n",
       "25%                       23.000000              61.000000   \n",
       "50%                       26.000000              68.000000   \n",
       "75%                       30.000000              76.000000   \n",
       "max                       50.000000             179.000000   \n",
       "\n",
       "       Physical-HeartRate  Physical-Systolic_BP  \n",
       "count         2967.000000           2954.000000  \n",
       "mean            81.597236            116.983074  \n",
       "std             13.665196             17.061225  \n",
       "min             27.000000              0.000000  \n",
       "25%             72.000000            107.000000  \n",
       "50%             81.000000            114.000000  \n",
       "75%             90.500000            125.000000  \n",
       "max            138.000000            203.000000  "
      ]
     },
     "execution_count": 34,
     "metadata": {},
     "output_type": "execute_result"
    }
   ],
   "source": [
    "physical_features = df_train.columns[df_train.columns.str.contains('Physical')]\n",
    "df_train[physical_features].describe()"
   ]
  },
  {
   "cell_type": "markdown",
   "metadata": {},
   "source": [
    "We can see that for columns `Physical-BMI`, `Physical-Weight`, `Physical-Diastolic_BP` and `Physical-Systolic_BP` minimum value is 0, which is not possible."
   ]
  },
  {
   "cell_type": "code",
   "execution_count": 32,
   "metadata": {},
   "outputs": [
    {
     "data": {
      "text/plain": [
       "Physical-Season                  0\n",
       "Physical-BMI                     7\n",
       "Physical-Height                  0\n",
       "Physical-Weight                 61\n",
       "Physical-Waist_Circumference     0\n",
       "Physical-Diastolic_BP            1\n",
       "Physical-HeartRate               0\n",
       "Physical-Systolic_BP             1\n",
       "dtype: int64"
      ]
     },
     "execution_count": 32,
     "metadata": {},
     "output_type": "execute_result"
    }
   ],
   "source": [
    "(df_train[physical_features] == 0).sum()"
   ]
  },
  {
   "cell_type": "markdown",
   "metadata": {},
   "source": [
    "`Physical-Systolic_BP` should be higher than `Physical-Diastolic_BP`. We will remove the values where `Physical-Systolic_BP` is lower than `Physical-Diastolic_BP`."
   ]
  },
  {
   "cell_type": "code",
   "execution_count": 35,
   "metadata": {},
   "outputs": [
    {
     "data": {
      "text/plain": [
       "3"
      ]
     },
     "execution_count": 35,
     "metadata": {},
     "output_type": "execute_result"
    }
   ],
   "source": [
    "(df_train['Physical-Systolic_BP'] < df_train['Physical-Diastolic_BP']).sum()"
   ]
  }
 ],
 "metadata": {
  "kernelspec": {
   "display_name": "Python 3",
   "language": "python",
   "name": "python3"
  },
  "language_info": {
   "codemirror_mode": {
    "name": "ipython",
    "version": 3
   },
   "file_extension": ".py",
   "mimetype": "text/x-python",
   "name": "python",
   "nbconvert_exporter": "python",
   "pygments_lexer": "ipython3",
   "version": "3.10.0"
  }
 },
 "nbformat": 4,
 "nbformat_minor": 2
}
